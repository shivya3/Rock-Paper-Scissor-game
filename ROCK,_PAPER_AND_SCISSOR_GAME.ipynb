{
  "nbformat": 4,
  "nbformat_minor": 0,
  "metadata": {
    "colab": {
      "provenance": []
    },
    "kernelspec": {
      "name": "python3",
      "display_name": "Python 3"
    },
    "language_info": {
      "name": "python"
    }
  },
  "cells": [
    {
      "cell_type": "markdown",
      "metadata": {
        "id": "m9A7WpPgQcvd"
      },
      "source": [
        "**HEY! YOU GAMER 👻👾🎮**"
      ]
    },
    {
      "cell_type": "markdown",
      "metadata": {
        "id": "h1nUN_I5SyUH"
      },
      "source": [
        "**LET'S PLAY THE FUN ROCK✊, PAPER🖐 AND SCISSOR✌ GAME**"
      ]
    },
    {
      "cell_type": "code",
      "metadata": {
        "colab": {
          "base_uri": "https://localhost:8080/"
        },
        "id": "m-TyJo1YR8iR",
        "outputId": "d84214c0-a57d-48e8-fa19-2d2eae2fca6d"
      },
      "source": [
        "GAMER_NAME = input(\"What's your name? \")\n",
        "print(\"That's a sweet name.🙂\")"
      ],
      "execution_count": null,
      "outputs": [
        {
          "output_type": "stream",
          "name": "stdout",
          "text": [
            "What's your name? SHIVYA\n",
            "That's a sweet name.🙂\n"
          ]
        }
      ]
    },
    {
      "cell_type": "code",
      "metadata": {
        "colab": {
          "base_uri": "https://localhost:8080/"
        },
        "id": "NdFVKryjyQ5w",
        "outputId": "a33d4704-a7bb-49dc-a06e-d71bcfe990b8"
      },
      "source": [
        "print(\"OKAY! \"+GAMER_NAME+\" SO HERE ARE SOME WINNING RULES OF THE ROCK, PAPER & SCISSOR GAME AS FOLLOWS: \\n\"   #+name+ To get input value printed here\n",
        "                                +\"ROCK V/S PAPER -> PAPER WINS 📃 \\n\"\n",
        "                                + \"ROCK V/S SCISSOR -> ROCK WINS 🌑 \\n\"\n",
        "                                +\"PAPER V/S SCISSOR-> SCISSOR WINS ✂ \\n\")"
      ],
      "execution_count": null,
      "outputs": [
        {
          "output_type": "stream",
          "name": "stdout",
          "text": [
            "OKAY! SHIVYA SO HERE ARE SOME WINNING RULES OF THE ROCK, PAPER & SCISSOR GAME AS FOLLOWS: \n",
            "ROCK V/S PAPER -> PAPER WINS 📃 \n",
            "ROCK V/S SCISSOR -> ROCK WINS 🌑 \n",
            "PAPER V/S SCISSOR-> SCISSOR WINS ✂ \n",
            "\n"
          ]
        }
      ]
    },
    {
      "cell_type": "code",
      "metadata": {
        "colab": {
          "base_uri": "https://localhost:8080/"
        },
        "id": "vJq8a_xqgy2q",
        "outputId": "dfff160a-0afd-466e-9020-a0c1e8dbec7a"
      },
      "source": [
        "import random ##Library to generate random numbers and in this program for computer to select random number from 1 to 3\n",
        "while True:   \n",
        "    print(\"CHOICES ARE AS FOLLOWS: \\n 1. ROCK \\n 2. PAPER \\n 3. SCISSOR \\n\")\n",
        "    choice = int(input(GAMER_NAME+ \" YOUR TURN: \"))         #USER input\n",
        "\n",
        "    while choice > 3 or choice < 1:\n",
        "        choice = int(input(\"CHOOSE THE CORRECT NUMBER 1, 2 or 3: \"))\n",
        "          \n",
        "    if choice == 1:\n",
        "        choice_name = 'ROCK'\n",
        "    elif choice == 2:\n",
        "        choice_name = 'PAPER'\n",
        "    else:\n",
        "        choice_name = 'SCISSOR'\n",
        "          \n",
        "   \n",
        "    print(GAMER_NAME+ \" YOUR CHOICE IS: \" +choice_name)\n",
        "    print(\"\\nNOW ITS COMPUTER TURN.....\")\n",
        "\n",
        "    comp_choice = random.randint(1, 4)  #COMPUTER To choose random number between 1 to 3\n",
        "    while comp_choice == choice:\n",
        "        comp_choice = random.randint(1, 4)\n",
        "  \n",
        " \n",
        "    if comp_choice == 1:\n",
        "        comp_choice_name = 'ROCK'\n",
        "    elif comp_choice == 2:\n",
        "        comp_choice_name = 'PAPER'\n",
        "    else:\n",
        "        comp_choice_name = 'SCISSOR'\n",
        "          \n",
        "    print(\"COMPUTER CHOICE IS: \" + comp_choice_name)\n",
        "  \n",
        "    print(choice_name + \" V/S \" + comp_choice_name)\n",
        "  \n",
        "   \n",
        "    if ((choice == 1 and comp_choice == 2) or (choice == 2 and comp_choice ==1 )):\n",
        "        print(\"PAPER WINS\")\n",
        "        result = \"PAPER\"\n",
        "          \n",
        "    elif ((choice == 1 and comp_choice == 3) or (choice == 3 and comp_choice == 1)):\n",
        "        print(\"ROCK WINS\")\n",
        "        result = \"ROCK\"\n",
        "    else:\n",
        "        print(\"SCISSOR WINS\")\n",
        "        result = \"SCISSOR\"\n",
        "  \n",
        "    if result == choice_name:\n",
        "        print(GAMER_NAME+ \" YOU WIN💃\")\n",
        "    else:\n",
        "        print(\"COMPUTER WINS💻\")\n",
        "\n",
        "    print(\"DO YOU WANT TO PLAY AGAIN? (Y/N)\")\n",
        "    ans = input()\n",
        "    if ans == 'y' or ans == 'Y':\n",
        "       print(\"YOUR NEXT ATTEMPT\")\n",
        "    elif ans == 'n' or ans == 'N':   \n",
        "        break #Stop the loop\n",
        "      \n",
        "\n",
        "print(\"\\nTHANKS \" +GAMER_NAME+ \" FOR PLAYING\")"
      ],
      "execution_count": null,
      "outputs": [
        {
          "output_type": "stream",
          "name": "stdout",
          "text": [
            "CHOICES ARE AS FOLLOWS: \n",
            " 1. ROCK \n",
            " 2. PAPER \n",
            " 3. SCISSOR \n",
            "\n",
            "SHIVYA YOUR TURN: 1\n",
            "SHIVYA YOUR CHOICE IS: ROCK\n",
            "\n",
            "NOW ITS COMPUTER TURN.....\n",
            "COMPUTER CHOICE IS: SCISSOR\n",
            "ROCK V/S SCISSOR\n",
            "SCISSOR WINS\n",
            "COMPUTER WINS💻\n",
            "DO YOU WANT TO PLAY AGAIN? (Y/N)\n",
            "n\n",
            "\n",
            "THANKS SHIVYA FOR PLAYING\n"
          ]
        }
      ]
    },
    {
      "cell_type": "code",
      "metadata": {
        "id": "LTAUixHl98kR"
      },
      "source": [],
      "execution_count": null,
      "outputs": []
    }
  ]
}